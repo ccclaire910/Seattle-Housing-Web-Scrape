{
 "cells": [
  {
   "cell_type": "code",
   "execution_count": 1,
   "metadata": {},
   "outputs": [],
   "source": [
    "from requests import get"
   ]
  },
  {
   "cell_type": "code",
   "execution_count": 2,
   "metadata": {},
   "outputs": [],
   "source": [
    "response = get('https://seattle.craigslist.org/search/see/apa?availabilityMode=0&hasPic=1')"
   ]
  },
  {
   "cell_type": "code",
   "execution_count": 3,
   "metadata": {},
   "outputs": [
    {
     "name": "stdout",
     "output_type": "stream",
     "text": [
      "Success!\n"
     ]
    }
   ],
   "source": [
    "if response.status_code == 200:\n",
    "    print('Success!')\n",
    "else:\n",
    "    print('Failure')"
   ]
  },
  {
   "cell_type": "code",
   "execution_count": 4,
   "metadata": {},
   "outputs": [],
   "source": [
    "response.encoding='utf-8'\n",
    "response.text"
   ]
  },
  {
   "cell_type": "code",
   "execution_count": 7,
   "metadata": {},
   "outputs": [
    {
     "data": {
      "text/plain": [
       "{'Last-Modified': 'Sat, 20 Aug 2022 23:33:24 GMT', 'Cache-Control': 'max-age=900, public', 'Date': 'Sat, 20 Aug 2022 23:33:24 GMT', 'Transfer-Encoding': 'chunked', 'Content-Encoding': 'gzip', 'Vary': 'Accept-Encoding', 'Content-Type': 'text/html; charset=utf-8', 'X-Frame-Options': 'SAMEORIGIN', 'Content-Security-Policy': \"base-uri 'self'; child-src https://*.craigslist.org; connect-src https://*.craigslist.org; font-src data:; form-action https://*.craigslist.org; frame-ancestors 'self'; frame-src https://*.craigslist.org; media-src data:; object-src 'none'; script-src 'unsafe-inline' 'unsafe-eval' https://*.craigslist.org; style-src 'unsafe-inline' https://*.craigslist.org\", 'Set-Cookie': 'cl_b=4|a5411d7ef24af736e3bc1c09ede99132dce0187a|1661038404I166Y;path=/;domain=.craigslist.org;secure;expires=Fri, 01-Jan-2038 00:00:00 GMT', 'Expires': 'Sat, 20 Aug 2022 23:48:24 GMT', 'Strict-Transport-Security': 'max-age=63072000'}"
      ]
     },
     "execution_count": 7,
     "metadata": {},
     "output_type": "execute_result"
    }
   ],
   "source": [
    "response.headers"
   ]
  },
  {
   "cell_type": "code",
   "execution_count": 6,
   "metadata": {},
   "outputs": [],
   "source": [
    "from bs4 import BeautifulSoup"
   ]
  },
  {
   "cell_type": "code",
   "execution_count": 7,
   "metadata": {},
   "outputs": [],
   "source": [
    "html_soup = BeautifulSoup(response.text, 'html.parser')"
   ]
  },
  {
   "cell_type": "code",
   "execution_count": 8,
   "metadata": {},
   "outputs": [
    {
     "name": "stdout",
     "output_type": "stream",
     "text": [
      "<class 'bs4.element.ResultSet'>\n",
      "120\n"
     ]
    }
   ],
   "source": [
    "posts = html_soup.find_all('li',{'class':'result-row'})\n",
    "#posts = html_soup.find_all('li',class_='result-row')\n",
    "print(type(posts))\n",
    "print(len(posts)) \n",
    "#print the length to check if all posts on first page are scraped"
   ]
  },
  {
   "cell_type": "markdown",
   "metadata": {},
   "source": [
    "#### Looking at the information in first post to ensure the information before building a loo["
   ]
  },
  {
   "cell_type": "code",
   "execution_count": 9,
   "metadata": {},
   "outputs": [
    {
     "data": {
      "text/plain": [
       "<li class=\"result-row\" data-pid=\"7524287567\">\n",
       "<a class=\"result-image gallery\" data-ids=\"3:00p0p_5UkEai9ITmRz_0CI0t2,3:00909_66XbMRM2Ao9z_0i30bw,3:00i0i_ltUs0vhIRYAz_0q60hr,3:00202_7gWbRSBAQJSz_0CI0pX,3:00z0z_e280X5P9y4Xz_0mr0t2,3:00W0W_5sIC9pl21gpz_0t20CI,3:00d0d_bSYXGbpxVEvz_0jN0d6,3:00T0T_alL3ivzbUoqz_0CI0pQ,3:00x0x_lxyhaCckRBxz_0CI0t2,3:00O0O_92jvYcHnFPLz_0CI0pO,3:00909_f8lb6gT1RJiz_0mU0fq,3:00e0e_5HnRsiqyiI6z_29J1By,3:00D0D_55aymhqD68z_0CI0pT,3:00202_eRCaW00tT72z_0CI0pW,3:00N0N_bqcBcdwIE86z_0CI0pQ,3:00k0k_b4DIefi8Ecnz_0og0gc,3:00W0W_7xtzbJymu1gz_0CI0pQ,3:00w0w_7CiNa5zeF2dz_0CI0sb,3:00r0r_7UrsHhN1qdAz_29y1C8,3:00d0d_h6yMRrmfaD9z_1Bp28x,3:00p0p_b7tiHV8uRAwz_0CI0t2,3:00i0i_jOCOaQkDAQtz_0gw0b2,3:00H0H_hzkQoyLqz4Lz_0gw0b2\" href=\"https://seattle.craigslist.org/see/apa/d/seattle-elevated-modern-luxury-discover/7524287567.html\">\n",
       "<span class=\"result-price\">$4,393</span>\n",
       "</a>\n",
       "<div class=\"result-info\">\n",
       "<span class=\"icon icon-star\" role=\"button\">\n",
       "<span class=\"screen-reader-text\">favorite this post</span>\n",
       "</span>\n",
       "<time class=\"result-date\" datetime=\"2022-08-21 14:58\" title=\"Sun 21 Aug 02:58:47 PM\">Aug 21</time>\n",
       "<h3 class=\"result-heading\">\n",
       "<a class=\"result-title hdrlnk\" data-id=\"7524287567\" href=\"https://seattle.craigslist.org/see/apa/d/seattle-elevated-modern-luxury-discover/7524287567.html\" id=\"postid_7524287567\">Elevated modern luxury. Discover the view from the top!</a>\n",
       "</h3>\n",
       "<span class=\"result-meta\">\n",
       "<span class=\"result-price\">$4,393</span>\n",
       "<span class=\"housing\">\n",
       "                    2br -\n",
       "                    1141ft<sup>2</sup> -\n",
       "                </span>\n",
       "<span class=\"result-hood\"> (2116 4th Ave Seattle, WA)</span>\n",
       "<span class=\"result-tags\">\n",
       "<span class=\"pictag\">pic</span>\n",
       "</span>\n",
       "<span class=\"banish icon icon-trash\" role=\"button\">\n",
       "<span class=\"screen-reader-text\">hide this posting</span>\n",
       "</span>\n",
       "<span aria-hidden=\"true\" class=\"unbanish icon icon-trash red\" role=\"button\"></span>\n",
       "<a class=\"restore-link\" href=\"#\">\n",
       "<span class=\"restore-narrow-text\">restore</span>\n",
       "<span class=\"restore-wide-text\">restore this posting</span>\n",
       "</a>\n",
       "</span>\n",
       "</div>\n",
       "</li>"
      ]
     },
     "execution_count": 9,
     "metadata": {},
     "output_type": "execute_result"
    }
   ],
   "source": [
    "posts[0]"
   ]
  },
  {
   "cell_type": "markdown",
   "metadata": {},
   "source": [
    "Get the price from first post"
   ]
  },
  {
   "cell_type": "code",
   "execution_count": 29,
   "metadata": {},
   "outputs": [],
   "source": [
    "# method 1\n",
    "post_one_price = posts[0].a.text\n",
    "post_one_price.strip()\n",
    "\n",
    "#strip remove white space before and after a string"
   ]
  },
  {
   "cell_type": "code",
   "execution_count": 30,
   "metadata": {},
   "outputs": [],
   "source": [
    "# method 2\n",
    "posts[0].find('span', class_ = 'result-price').text.strip()"
   ]
  },
  {
   "cell_type": "markdown",
   "metadata": {},
   "source": [
    "Get the date and time from first post"
   ]
  },
  {
   "cell_type": "code",
   "execution_count": 12,
   "metadata": {},
   "outputs": [
    {
     "data": {
      "text/plain": [
       "'2022-08-21 14:58'"
      ]
     },
     "execution_count": 12,
     "metadata": {},
     "output_type": "execute_result"
    }
   ],
   "source": [
    "# method 1 - use .\n",
    "posts[0].time['datetime']"
   ]
  },
  {
   "cell_type": "code",
   "execution_count": 13,
   "metadata": {},
   "outputs": [],
   "source": [
    "# method 2 - use .find()\n",
    "post_one_time = posts[0].find('time',class_='result-date')['datetime']"
   ]
  },
  {
   "cell_type": "code",
   "execution_count": 14,
   "metadata": {},
   "outputs": [
    {
     "data": {
      "text/plain": [
       "'2022-08-21 14:58'"
      ]
     },
     "execution_count": 14,
     "metadata": {},
     "output_type": "execute_result"
    }
   ],
   "source": [
    "post_one_time"
   ]
  },
  {
   "cell_type": "markdown",
   "metadata": {},
   "source": [
    "Find the title and link of first post"
   ]
  },
  {
   "cell_type": "code",
   "execution_count": 15,
   "metadata": {},
   "outputs": [
    {
     "data": {
      "text/plain": [
       "<a class=\"result-title hdrlnk\" data-id=\"7524287567\" href=\"https://seattle.craigslist.org/see/apa/d/seattle-elevated-modern-luxury-discover/7524287567.html\" id=\"postid_7524287567\">Elevated modern luxury. Discover the view from the top!</a>"
      ]
     },
     "execution_count": 15,
     "metadata": {},
     "output_type": "execute_result"
    }
   ],
   "source": [
    "post_one_title = posts[0].find('a', class_='result-title hdrlnk')\n",
    "post_one_title"
   ]
  },
  {
   "cell_type": "code",
   "execution_count": 16,
   "metadata": {},
   "outputs": [
    {
     "data": {
      "text/plain": [
       "'Elevated modern luxury. Discover the view from the top!'"
      ]
     },
     "execution_count": 16,
     "metadata": {},
     "output_type": "execute_result"
    }
   ],
   "source": [
    "post_one_title.text"
   ]
  },
  {
   "cell_type": "code",
   "execution_count": 17,
   "metadata": {},
   "outputs": [
    {
     "name": "stdout",
     "output_type": "stream",
     "text": [
      "https://seattle.craigslist.org/see/apa/d/seattle-elevated-modern-luxury-discover/7524287567.html\n"
     ]
    }
   ],
   "source": [
    "post_one_link = post_one_title['href']\n",
    "print(post_one_link)"
   ]
  },
  {
   "cell_type": "code",
   "execution_count": 18,
   "metadata": {},
   "outputs": [
    {
     "name": "stdout",
     "output_type": "stream",
     "text": [
      "https://seattle.craigslist.org/see/apa/d/seattle-elevated-modern-luxury-discover/7524287567.html\n"
     ]
    }
   ],
   "source": [
    "print(posts[0].a.get('href'))"
   ]
  },
  {
   "cell_type": "code",
   "execution_count": 19,
   "metadata": {},
   "outputs": [
    {
     "data": {
      "text/plain": [
       "<a class=\"result-image gallery\" data-ids=\"3:00p0p_5UkEai9ITmRz_0CI0t2,3:00909_66XbMRM2Ao9z_0i30bw,3:00i0i_ltUs0vhIRYAz_0q60hr,3:00202_7gWbRSBAQJSz_0CI0pX,3:00z0z_e280X5P9y4Xz_0mr0t2,3:00W0W_5sIC9pl21gpz_0t20CI,3:00d0d_bSYXGbpxVEvz_0jN0d6,3:00T0T_alL3ivzbUoqz_0CI0pQ,3:00x0x_lxyhaCckRBxz_0CI0t2,3:00O0O_92jvYcHnFPLz_0CI0pO,3:00909_f8lb6gT1RJiz_0mU0fq,3:00e0e_5HnRsiqyiI6z_29J1By,3:00D0D_55aymhqD68z_0CI0pT,3:00202_eRCaW00tT72z_0CI0pW,3:00N0N_bqcBcdwIE86z_0CI0pQ,3:00k0k_b4DIefi8Ecnz_0og0gc,3:00W0W_7xtzbJymu1gz_0CI0pQ,3:00w0w_7CiNa5zeF2dz_0CI0sb,3:00r0r_7UrsHhN1qdAz_29y1C8,3:00d0d_h6yMRrmfaD9z_1Bp28x,3:00p0p_b7tiHV8uRAwz_0CI0t2,3:00i0i_jOCOaQkDAQtz_0gw0b2,3:00H0H_hzkQoyLqz4Lz_0gw0b2\" href=\"https://seattle.craigslist.org/see/apa/d/seattle-elevated-modern-luxury-discover/7524287567.html\">\n",
       "<span class=\"result-price\">$4,393</span>\n",
       "</a>"
      ]
     },
     "execution_count": 19,
     "metadata": {},
     "output_type": "execute_result"
    }
   ],
   "source": [
    "posts[0].a"
   ]
  },
  {
   "cell_type": "code",
   "execution_count": 20,
   "metadata": {},
   "outputs": [
    {
     "data": {
      "text/plain": [
       "['2br', '-', '1141ft2', '-']"
      ]
     },
     "execution_count": 20,
     "metadata": {},
     "output_type": "execute_result"
    }
   ],
   "source": [
    "posts[0].find('span', class_='housing').text.split()"
   ]
  },
  {
   "cell_type": "markdown",
   "metadata": {},
   "source": [
    "Find the number of bedroom of this property"
   ]
  },
  {
   "cell_type": "code",
   "execution_count": 21,
   "metadata": {},
   "outputs": [
    {
     "data": {
      "text/plain": [
       "'2'"
      ]
     },
     "execution_count": 21,
     "metadata": {},
     "output_type": "execute_result"
    }
   ],
   "source": [
    "post_two_br = posts[0].find('span', class_='housing').text.split()[0][:-2]\n",
    "post_two_br"
   ]
  },
  {
   "cell_type": "markdown",
   "metadata": {},
   "source": [
    "Find the square feet of this property"
   ]
  },
  {
   "cell_type": "code",
   "execution_count": 22,
   "metadata": {},
   "outputs": [
    {
     "data": {
      "text/plain": [
       "'1141'"
      ]
     },
     "execution_count": 22,
     "metadata": {},
     "output_type": "execute_result"
    }
   ],
   "source": [
    "post_two_sqft = posts[0].find('span', class_='housing').text.split()[2][:-3]\n",
    "post_two_sqft"
   ]
  },
  {
   "cell_type": "markdown",
   "metadata": {},
   "source": [
    "Find the neighborhood of this post"
   ]
  },
  {
   "cell_type": "code",
   "execution_count": 23,
   "metadata": {},
   "outputs": [
    {
     "data": {
      "text/plain": [
       "'(2116 4th Ave Seattle, WA)'"
      ]
     },
     "execution_count": 23,
     "metadata": {},
     "output_type": "execute_result"
    }
   ],
   "source": [
    "post_two_hood = posts[0].find('span', class_='result-hood').text\n",
    "post_two_hood.strip()"
   ]
  },
  {
   "cell_type": "markdown",
   "metadata": {},
   "source": [
    "#### Building the loop for all pages to find all information we need"
   ]
  },
  {
   "cell_type": "code",
   "execution_count": 24,
   "metadata": {},
   "outputs": [],
   "source": [
    "import numpy as np\n",
    "from random import randint\n",
    "from time import sleep\n",
    "from warnings import warn"
   ]
  },
  {
   "cell_type": "markdown",
   "metadata": {},
   "source": [
    "Find out how many posts are there"
   ]
  },
  {
   "cell_type": "code",
   "execution_count": 27,
   "metadata": {},
   "outputs": [],
   "source": [
    "#html_soup.find('div',class_='search-legend')"
   ]
  },
  {
   "cell_type": "code",
   "execution_count": 26,
   "metadata": {},
   "outputs": [
    {
     "data": {
      "text/plain": [
       "3000"
      ]
     },
     "execution_count": 26,
     "metadata": {},
     "output_type": "execute_result"
    }
   ],
   "source": [
    "result_total = int(html_soup.find('span',class_='totalcount').text)\n",
    "result_total"
   ]
  },
  {
   "cell_type": "markdown",
   "metadata": {},
   "source": [
    "Find out how many pages are there"
   ]
  },
  {
   "cell_type": "code",
   "execution_count": 28,
   "metadata": {},
   "outputs": [
    {
     "data": {
      "text/plain": [
       "array([   0,  120,  240,  360,  480,  600,  720,  840,  960, 1080, 1200,\n",
       "       1320, 1440, 1560, 1680, 1800, 1920, 2040, 2160, 2280, 2400, 2520,\n",
       "       2640, 2760, 2880])"
      ]
     },
     "execution_count": 28,
     "metadata": {},
     "output_type": "execute_result"
    }
   ],
   "source": [
    "pages = np.arange(0,result_total,120)\n",
    "pages"
   ]
  },
  {
   "cell_type": "markdown",
   "metadata": {},
   "source": [
    "What information we'd like to know from the web"
   ]
  },
  {
   "cell_type": "code",
   "execution_count": 44,
   "metadata": {},
   "outputs": [],
   "source": [
    "post_timing = []\n",
    "post_hoods = []\n",
    "post_prices = []\n",
    "post_title_texts = []\n",
    "post_links = []\n",
    "sqfts = []\n",
    "bedroom_counts = []"
   ]
  },
  {
   "cell_type": "code",
   "execution_count": 45,
   "metadata": {},
   "outputs": [
    {
     "name": "stdout",
     "output_type": "stream",
     "text": [
      "Page 1 scraped successfully!!\n",
      "Page 2 scraped successfully!!\n",
      "Page 3 scraped successfully!!\n",
      "Page 4 scraped successfully!!\n",
      "Page 5 scraped successfully!!\n",
      "Page 6 scraped successfully!!\n",
      "Page 7 scraped successfully!!\n",
      "Page 8 scraped successfully!!\n",
      "Page 9 scraped successfully!!\n",
      "Page 10 scraped successfully!!\n",
      "Page 11 scraped successfully!!\n",
      "Page 12 scraped successfully!!\n",
      "Page 13 scraped successfully!!\n",
      "Page 14 scraped successfully!!\n",
      "Page 15 scraped successfully!!\n",
      "Page 16 scraped successfully!!\n",
      "Page 17 scraped successfully!!\n",
      "Page 18 scraped successfully!!\n",
      "Page 19 scraped successfully!!\n",
      "Page 20 scraped successfully!!\n",
      "Page 21 scraped successfully!!\n",
      "Page 22 scraped successfully!!\n",
      "Page 23 scraped successfully!!\n",
      "Page 24 scraped successfully!!\n",
      "Page 25 scraped successfully!!\n",
      "Complete\n"
     ]
    }
   ],
   "source": [
    "iteration = 0\n",
    "for page in pages:\n",
    "    \n",
    "    # Get request\n",
    "    response = get('https://seattle.craigslist.org/search/see/apa?'\n",
    "                           +'s='+str(page)\n",
    "                           +'&availabilityMode=0&hasPic=1')\n",
    "    sleep(randint(1,5))\n",
    "    \n",
    "    # Throw warning for status codes that are not 200\n",
    "    if response.status_code != 200:\n",
    "          warn('Request: {}; status code: {}'.format(requests,response.status_code))\n",
    "    \n",
    "    # Define html text\n",
    "    page_html = BeautifulSoup(response.text, 'html.parser')\n",
    "          \n",
    "    # Define the posts\n",
    "    page_post = page_html.find_all('li',class_='result-row')\n",
    "          \n",
    "    # Extrace data item-wise\n",
    "    for post in page_post:\n",
    "        if post.find('span',class_='result-hood') is not None:\n",
    "            \n",
    "            # Post time\n",
    "            post_time = post.find('time', class_='result-date')['datetime']\n",
    "            post_timing.append(post_time)\n",
    "                              \n",
    "            # Post hood\n",
    "            post_hood = post.find('span', class_='result-hood').text\n",
    "            post_hoods.append(post_hood.strip())\n",
    "            \n",
    "            # Post title\n",
    "            post_title = post.find('a', class_='result-title hdrlnk')\n",
    "            post_title_text = post_title.text\n",
    "            post_title_texts.append(post_title_text)\n",
    "            \n",
    "            # Post price\n",
    "            post_price = post.a.text.replace('$','').strip()\n",
    "            post_prices.append(post_price)\n",
    "            \n",
    "            # Post link\n",
    "            post_link = post.a.get('href')\n",
    "            post_links.append(post_link)\n",
    "            \n",
    "            if post.find('span', class_='housing') is not None:\n",
    "                \n",
    "                if 'ft2' in post.find('span', class_='housing').text.split()[0]:\n",
    "                    \n",
    "                    # Post bedroom\n",
    "                    bedroom = np.nan\n",
    "                    bedroom_counts.append(bedroom)\n",
    "                \n",
    "                    # Post sqft\n",
    "                    sqft = int(post.find('span', class_='housing').text.split()[0][:-3])\n",
    "                    sqfts.append(sqft)\n",
    "                \n",
    "                elif len(post.find('span', class_='housing').text.split()) > 2:\n",
    "                    \n",
    "                    # Post bedroom\n",
    "                    bedroom = post.find('span', class_='housing').text.split()[0][:-2]\n",
    "                    bedroom_counts.append(bedroom)\n",
    "                    \n",
    "                    # Post sqft\n",
    "                    sqft = int(post.find('span', class_='housing').text.split()[2][:-3])\n",
    "                    sqfts.append(sqft)\n",
    "                \n",
    "                elif len(post.find('span', class_='housing').text.split()) == 2:\n",
    "                    \n",
    "                    # Post bedroom\n",
    "                    bedroom = post.find('span', class_='housing').text.split()[0][:-2]\n",
    "                    bedroom_counts.append(bedroom)\n",
    "                    \n",
    "                    # Post sqft\n",
    "                    sqft = np.nan\n",
    "                    sqfts.append(sqft)\n",
    "                else:\n",
    "                    \n",
    "                    # Post bedroom\n",
    "                    bedroom = np.nan\n",
    "                    bedroom_counts.append(bedroom)\n",
    "\n",
    "                    # Post sqft\n",
    "                    sqft = np.nan\n",
    "                    sqfts.append(sqft)\n",
    "            else:\n",
    "                    \n",
    "                # Post bedroom\n",
    "                bedroom = np.nan\n",
    "                bedroom_counts.append(bedroom)\n",
    "                    \n",
    "                # Post sqft\n",
    "                sqft = np.nan\n",
    "                sqfts.append(sqft)\n",
    "                \n",
    "\n",
    "    iteration += 1\n",
    "    print('Page ' + str(iteration) + ' scraped successfully!!')  \n",
    "print('Complete')"
   ]
  },
  {
   "cell_type": "markdown",
   "metadata": {},
   "source": [
    "#### Create a DataFrame to include all data"
   ]
  },
  {
   "cell_type": "code",
   "execution_count": 46,
   "metadata": {},
   "outputs": [],
   "source": [
    "import pandas as pd"
   ]
  },
  {
   "cell_type": "markdown",
   "metadata": {},
   "source": [
    "First we need to check if the length is the same for all lists"
   ]
  },
  {
   "cell_type": "code",
   "execution_count": 47,
   "metadata": {},
   "outputs": [
    {
     "name": "stdout",
     "output_type": "stream",
     "text": [
      "3000 3000 3000 3000 3000 3000 3000\n"
     ]
    }
   ],
   "source": [
    "print(len(post_timing),len(post_hoods),len(post_prices),len(post_title_texts),len(post_links),len(bedroom_counts),len(sqfts))"
   ]
  },
  {
   "cell_type": "markdown",
   "metadata": {},
   "source": [
    "Load lists into a Dataframe"
   ]
  },
  {
   "cell_type": "code",
   "execution_count": 48,
   "metadata": {},
   "outputs": [],
   "source": [
    "craigRent = pd.DataFrame({'Post_Date':post_timing, \n",
    "            'Neighborhood':post_hoods,\n",
    "            'Price':post_prices,\n",
    "            'Title':post_title_texts,\n",
    "            'Url':post_links,\n",
    "            'Bedroom':bedroom_counts,\n",
    "            'sqft':sqfts\n",
    "            })"
   ]
  },
  {
   "cell_type": "code",
   "execution_count": 49,
   "metadata": {},
   "outputs": [
    {
     "data": {
      "text/html": [
       "<div>\n",
       "<style scoped>\n",
       "    .dataframe tbody tr th:only-of-type {\n",
       "        vertical-align: middle;\n",
       "    }\n",
       "\n",
       "    .dataframe tbody tr th {\n",
       "        vertical-align: top;\n",
       "    }\n",
       "\n",
       "    .dataframe thead th {\n",
       "        text-align: right;\n",
       "    }\n",
       "</style>\n",
       "<table border=\"1\" class=\"dataframe\">\n",
       "  <thead>\n",
       "    <tr style=\"text-align: right;\">\n",
       "      <th></th>\n",
       "      <th>Post_Date</th>\n",
       "      <th>Neighborhood</th>\n",
       "      <th>Price</th>\n",
       "      <th>Title</th>\n",
       "      <th>Url</th>\n",
       "      <th>Bedroom</th>\n",
       "      <th>sqft</th>\n",
       "    </tr>\n",
       "  </thead>\n",
       "  <tbody>\n",
       "    <tr>\n",
       "      <th>0</th>\n",
       "      <td>2022-08-20 16:40</td>\n",
       "      <td>(Bothell, WA)</td>\n",
       "      <td>3,460</td>\n",
       "      <td>Large Patio with Amazing Views! 2x2 in the Hea...</td>\n",
       "      <td>https://seattle.craigslist.org/see/apa/d/bothe...</td>\n",
       "      <td>2</td>\n",
       "      <td>1088.0</td>\n",
       "    </tr>\n",
       "    <tr>\n",
       "      <th>1</th>\n",
       "      <td>2022-08-20 16:39</td>\n",
       "      <td>(seattle)</td>\n",
       "      <td>2,404</td>\n",
       "      <td>Microwave, Tile Floors, Bike Repair Station - ...</td>\n",
       "      <td>https://seattle.craigslist.org/see/apa/d/seatt...</td>\n",
       "      <td>1</td>\n",
       "      <td>669.0</td>\n",
       "    </tr>\n",
       "    <tr>\n",
       "      <th>2</th>\n",
       "      <td>2022-08-20 16:39</td>\n",
       "      <td>(Greenwood, Green Lake, Phinney Ridge, Rooseve...</td>\n",
       "      <td>2,078</td>\n",
       "      <td>Ready for December - One Bedroom Available - A...</td>\n",
       "      <td>https://seattle.craigslist.org/see/apa/d/seatt...</td>\n",
       "      <td>1</td>\n",
       "      <td>613.0</td>\n",
       "    </tr>\n",
       "    <tr>\n",
       "      <th>3</th>\n",
       "      <td>2022-08-20 16:38</td>\n",
       "      <td>(4138 Brooklyn Ave. NE Seattle, WA)</td>\n",
       "      <td>1,465</td>\n",
       "      <td>1 MONTH FREE - Sick Studio, Blocks from UW - 9...</td>\n",
       "      <td>https://seattle.craigslist.org/see/apa/d/seatt...</td>\n",
       "      <td>NaN</td>\n",
       "      <td>257.0</td>\n",
       "    </tr>\n",
       "    <tr>\n",
       "      <th>4</th>\n",
       "      <td>2022-08-20 16:38</td>\n",
       "      <td>(Roosevelt, Seattle)</td>\n",
       "      <td>2,300</td>\n",
       "      <td>One Bedroom Home Near EVERYTHNG You Need!</td>\n",
       "      <td>https://seattle.craigslist.org/see/apa/d/seatt...</td>\n",
       "      <td>1</td>\n",
       "      <td>528.0</td>\n",
       "    </tr>\n",
       "    <tr>\n",
       "      <th>5</th>\n",
       "      <td>2022-08-20 16:38</td>\n",
       "      <td>(520 Occidental Ave S, Seattle, WA)</td>\n",
       "      <td>3,487</td>\n",
       "      <td>Fitness Center and Yoga Rooms, Stainless-Steel...</td>\n",
       "      <td>https://seattle.craigslist.org/see/apa/d/seatt...</td>\n",
       "      <td>2</td>\n",
       "      <td>1035.0</td>\n",
       "    </tr>\n",
       "    <tr>\n",
       "      <th>6</th>\n",
       "      <td>2022-08-20 16:37</td>\n",
       "      <td>(West Seattle)</td>\n",
       "      <td>1,995</td>\n",
       "      <td>Breathtaking Views! Home Sweet Home! Brand New...</td>\n",
       "      <td>https://seattle.craigslist.org/see/apa/d/seatt...</td>\n",
       "      <td>1</td>\n",
       "      <td>523.0</td>\n",
       "    </tr>\n",
       "    <tr>\n",
       "      <th>7</th>\n",
       "      <td>2022-08-20 16:37</td>\n",
       "      <td>(Bell Town)</td>\n",
       "      <td>3,001</td>\n",
       "      <td>Astonishing 1.5 bedroom And 1 Bathroom Apartme...</td>\n",
       "      <td>https://seattle.craigslist.org/see/apa/d/seatt...</td>\n",
       "      <td>1</td>\n",
       "      <td>794.0</td>\n",
       "    </tr>\n",
       "    <tr>\n",
       "      <th>8</th>\n",
       "      <td>2022-08-20 16:35</td>\n",
       "      <td>(West Seattle)</td>\n",
       "      <td>1,774</td>\n",
       "      <td>MFTE - Utilities INCLUDED! Quartz Countertops,...</td>\n",
       "      <td>https://seattle.craigslist.org/see/apa/d/seatt...</td>\n",
       "      <td>1</td>\n",
       "      <td>493.0</td>\n",
       "    </tr>\n",
       "    <tr>\n",
       "      <th>9</th>\n",
       "      <td>2022-08-20 16:34</td>\n",
       "      <td>(520 Occidental Ave S, Seattle, WA)</td>\n",
       "      <td>2,763</td>\n",
       "      <td>Modern Design with a Unique Twist at The Nolo!</td>\n",
       "      <td>https://seattle.craigslist.org/see/apa/d/seatt...</td>\n",
       "      <td>1</td>\n",
       "      <td>719.0</td>\n",
       "    </tr>\n",
       "  </tbody>\n",
       "</table>\n",
       "</div>"
      ],
      "text/plain": [
       "          Post_Date                                       Neighborhood  Price  \\\n",
       "0  2022-08-20 16:40                                      (Bothell, WA)  3,460   \n",
       "1  2022-08-20 16:39                                          (seattle)  2,404   \n",
       "2  2022-08-20 16:39  (Greenwood, Green Lake, Phinney Ridge, Rooseve...  2,078   \n",
       "3  2022-08-20 16:38                (4138 Brooklyn Ave. NE Seattle, WA)  1,465   \n",
       "4  2022-08-20 16:38                               (Roosevelt, Seattle)  2,300   \n",
       "5  2022-08-20 16:38                (520 Occidental Ave S, Seattle, WA)  3,487   \n",
       "6  2022-08-20 16:37                                     (West Seattle)  1,995   \n",
       "7  2022-08-20 16:37                                        (Bell Town)  3,001   \n",
       "8  2022-08-20 16:35                                     (West Seattle)  1,774   \n",
       "9  2022-08-20 16:34                (520 Occidental Ave S, Seattle, WA)  2,763   \n",
       "\n",
       "                                               Title  \\\n",
       "0  Large Patio with Amazing Views! 2x2 in the Hea...   \n",
       "1  Microwave, Tile Floors, Bike Repair Station - ...   \n",
       "2  Ready for December - One Bedroom Available - A...   \n",
       "3  1 MONTH FREE - Sick Studio, Blocks from UW - 9...   \n",
       "4          One Bedroom Home Near EVERYTHNG You Need!   \n",
       "5  Fitness Center and Yoga Rooms, Stainless-Steel...   \n",
       "6  Breathtaking Views! Home Sweet Home! Brand New...   \n",
       "7  Astonishing 1.5 bedroom And 1 Bathroom Apartme...   \n",
       "8  MFTE - Utilities INCLUDED! Quartz Countertops,...   \n",
       "9     Modern Design with a Unique Twist at The Nolo!   \n",
       "\n",
       "                                                 Url Bedroom    sqft  \n",
       "0  https://seattle.craigslist.org/see/apa/d/bothe...       2  1088.0  \n",
       "1  https://seattle.craigslist.org/see/apa/d/seatt...       1   669.0  \n",
       "2  https://seattle.craigslist.org/see/apa/d/seatt...       1   613.0  \n",
       "3  https://seattle.craigslist.org/see/apa/d/seatt...     NaN   257.0  \n",
       "4  https://seattle.craigslist.org/see/apa/d/seatt...       1   528.0  \n",
       "5  https://seattle.craigslist.org/see/apa/d/seatt...       2  1035.0  \n",
       "6  https://seattle.craigslist.org/see/apa/d/seatt...       1   523.0  \n",
       "7  https://seattle.craigslist.org/see/apa/d/seatt...       1   794.0  \n",
       "8  https://seattle.craigslist.org/see/apa/d/seatt...       1   493.0  \n",
       "9  https://seattle.craigslist.org/see/apa/d/seatt...       1   719.0  "
      ]
     },
     "execution_count": 49,
     "metadata": {},
     "output_type": "execute_result"
    }
   ],
   "source": [
    "craigRent.head(10)"
   ]
  },
  {
   "cell_type": "code",
   "execution_count": 50,
   "metadata": {},
   "outputs": [
    {
     "name": "stdout",
     "output_type": "stream",
     "text": [
      "<class 'pandas.core.frame.DataFrame'>\n",
      "RangeIndex: 3000 entries, 0 to 2999\n",
      "Data columns (total 7 columns):\n",
      " #   Column        Non-Null Count  Dtype  \n",
      "---  ------        --------------  -----  \n",
      " 0   Post_Date     3000 non-null   object \n",
      " 1   Neighborhood  3000 non-null   object \n",
      " 2   Price         3000 non-null   object \n",
      " 3   Title         3000 non-null   object \n",
      " 4   Url           3000 non-null   object \n",
      " 5   Bedroom       2316 non-null   object \n",
      " 6   sqft          2780 non-null   float64\n",
      "dtypes: float64(1), object(6)\n",
      "memory usage: 164.2+ KB\n"
     ]
    }
   ],
   "source": [
    "craigRent.info()"
   ]
  },
  {
   "cell_type": "markdown",
   "metadata": {},
   "source": [
    "#### More Data Cleaning"
   ]
  },
  {
   "cell_type": "markdown",
   "metadata": {},
   "source": [
    "Drop Duplicates"
   ]
  },
  {
   "cell_type": "code",
   "execution_count": 51,
   "metadata": {},
   "outputs": [
    {
     "data": {
      "text/plain": [
       "2998"
      ]
     },
     "execution_count": 51,
     "metadata": {},
     "output_type": "execute_result"
    }
   ],
   "source": [
    "craigRent = craigRent.drop_duplicates(subset='Url')\n",
    "len(craigRent)"
   ]
  },
  {
   "cell_type": "code",
   "execution_count": 52,
   "metadata": {},
   "outputs": [],
   "source": [
    "craigRent['Neighborhood'] = craigRent['Neighborhood'].apply(lambda x:x[1:len(x)-1])"
   ]
  },
  {
   "cell_type": "code",
   "execution_count": 53,
   "metadata": {},
   "outputs": [],
   "source": [
    "craigRent['Bedroom'] = craigRent['Bedroom'].apply(lambda x: float(x))"
   ]
  },
  {
   "cell_type": "code",
   "execution_count": 54,
   "metadata": {},
   "outputs": [],
   "source": [
    "craigRent['Price'] = craigRent['Price'].apply(lambda x: float(x.replace(',','')))"
   ]
  },
  {
   "cell_type": "code",
   "execution_count": 55,
   "metadata": {},
   "outputs": [],
   "source": [
    "from datetime import datetime"
   ]
  },
  {
   "cell_type": "code",
   "execution_count": 56,
   "metadata": {},
   "outputs": [],
   "source": [
    "craigRent['Post_Date'] = pd.to_datetime(craigRent['Post_Date'])"
   ]
  },
  {
   "cell_type": "code",
   "execution_count": 57,
   "metadata": {},
   "outputs": [],
   "source": [
    "craigRent['Neighborhood'] = craigRent['Neighborhood'].str.title()"
   ]
  },
  {
   "cell_type": "code",
   "execution_count": 58,
   "metadata": {},
   "outputs": [],
   "source": [
    "craigRent['Neighborhood'] = craigRent['Neighborhood'].apply(lambda x:x.strip())"
   ]
  },
  {
   "cell_type": "code",
   "execution_count": 59,
   "metadata": {},
   "outputs": [
    {
     "data": {
      "text/plain": [
       "0                                             Bothell, Wa\n",
       "1                                                 Seattle\n",
       "2       Greenwood, Green Lake, Phinney Ridge, Roosevel...\n",
       "3                       4138 Brooklyn Ave. Ne Seattle, Wa\n",
       "4                                      Roosevelt, Seattle\n",
       "                              ...                        \n",
       "2995                                             Belltown\n",
       "2996                                    Roosevelt/Seattle\n",
       "2997                                              Ballard\n",
       "2998                                              Seattle\n",
       "2999                                         Capitol Hill\n",
       "Name: Neighborhood, Length: 2998, dtype: object"
      ]
     },
     "execution_count": 59,
     "metadata": {},
     "output_type": "execute_result"
    }
   ],
   "source": [
    "craigRent['Neighborhood']"
   ]
  },
  {
   "cell_type": "code",
   "execution_count": 60,
   "metadata": {},
   "outputs": [
    {
     "data": {
      "text/plain": [
       "True"
      ]
     },
     "execution_count": 60,
     "metadata": {},
     "output_type": "execute_result"
    }
   ],
   "source": [
    " 'Seattle' in craigRent['Neighborhood'].at[814] "
   ]
  },
  {
   "cell_type": "code",
   "execution_count": 61,
   "metadata": {},
   "outputs": [
    {
     "name": "stdout",
     "output_type": "stream",
     "text": [
      "<class 'pandas.core.frame.DataFrame'>\n",
      "Int64Index: 2998 entries, 0 to 2999\n",
      "Data columns (total 7 columns):\n",
      " #   Column        Non-Null Count  Dtype         \n",
      "---  ------        --------------  -----         \n",
      " 0   Post_Date     2998 non-null   datetime64[ns]\n",
      " 1   Neighborhood  2998 non-null   object        \n",
      " 2   Price         2998 non-null   float64       \n",
      " 3   Title         2998 non-null   object        \n",
      " 4   Url           2998 non-null   object        \n",
      " 5   Bedroom       2315 non-null   float64       \n",
      " 6   sqft          2778 non-null   float64       \n",
      "dtypes: datetime64[ns](1), float64(3), object(3)\n",
      "memory usage: 267.4+ KB\n"
     ]
    }
   ],
   "source": [
    "craigRent.info()"
   ]
  },
  {
   "cell_type": "code",
   "execution_count": 32,
   "metadata": {},
   "outputs": [],
   "source": [
    "craigRent.to_csv('craigRent_4.csv',index = False)"
   ]
  }
 ],
 "metadata": {
  "kernelspec": {
   "display_name": "Python 3",
   "language": "python",
   "name": "python3"
  },
  "language_info": {
   "codemirror_mode": {
    "name": "ipython",
    "version": 3
   },
   "file_extension": ".py",
   "mimetype": "text/x-python",
   "name": "python",
   "nbconvert_exporter": "python",
   "pygments_lexer": "ipython3",
   "version": "3.8.5"
  }
 },
 "nbformat": 4,
 "nbformat_minor": 4
}
