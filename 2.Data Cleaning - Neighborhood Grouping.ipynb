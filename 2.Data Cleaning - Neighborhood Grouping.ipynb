{
 "cells": [
  {
   "cell_type": "code",
   "execution_count": 9,
   "metadata": {},
   "outputs": [],
   "source": [
    "import pandas as pd"
   ]
  },
  {
   "cell_type": "code",
   "execution_count": 10,
   "metadata": {},
   "outputs": [],
   "source": [
    "rent = pd.read_csv('craigRent.csv')"
   ]
  },
  {
   "cell_type": "code",
   "execution_count": 11,
   "metadata": {},
   "outputs": [
    {
     "data": {
      "text/html": [
       "<div>\n",
       "<style scoped>\n",
       "    .dataframe tbody tr th:only-of-type {\n",
       "        vertical-align: middle;\n",
       "    }\n",
       "\n",
       "    .dataframe tbody tr th {\n",
       "        vertical-align: top;\n",
       "    }\n",
       "\n",
       "    .dataframe thead th {\n",
       "        text-align: right;\n",
       "    }\n",
       "</style>\n",
       "<table border=\"1\" class=\"dataframe\">\n",
       "  <thead>\n",
       "    <tr style=\"text-align: right;\">\n",
       "      <th></th>\n",
       "      <th>Post_Date</th>\n",
       "      <th>Neighborhood</th>\n",
       "      <th>Price</th>\n",
       "      <th>Title</th>\n",
       "      <th>Url</th>\n",
       "      <th>Bedroom</th>\n",
       "      <th>sqft</th>\n",
       "    </tr>\n",
       "  </thead>\n",
       "  <tbody>\n",
       "    <tr>\n",
       "      <th>0</th>\n",
       "      <td>2022-08-18 15:24:00</td>\n",
       "      <td>Seattle, Wa</td>\n",
       "      <td>1495.0</td>\n",
       "      <td>We are a new building located in Queen Anne! N...</td>\n",
       "      <td>https://seattle.craigslist.org/see/apa/d/seatt...</td>\n",
       "      <td>NaN</td>\n",
       "      <td>320.0</td>\n",
       "    </tr>\n",
       "    <tr>\n",
       "      <th>1</th>\n",
       "      <td>2022-08-18 15:23:00</td>\n",
       "      <td>14700 Ne 35Th St, Bellevue, Wa</td>\n",
       "      <td>2750.0</td>\n",
       "      <td>2BR Town Home, Modern kitchen, Tons of storage...</td>\n",
       "      <td>https://seattle.craigslist.org/see/apa/d/belle...</td>\n",
       "      <td>2.0</td>\n",
       "      <td>1057.0</td>\n",
       "    </tr>\n",
       "  </tbody>\n",
       "</table>\n",
       "</div>"
      ],
      "text/plain": [
       "             Post_Date                    Neighborhood   Price  \\\n",
       "0  2022-08-18 15:24:00                     Seattle, Wa  1495.0   \n",
       "1  2022-08-18 15:23:00  14700 Ne 35Th St, Bellevue, Wa  2750.0   \n",
       "\n",
       "                                               Title  \\\n",
       "0  We are a new building located in Queen Anne! N...   \n",
       "1  2BR Town Home, Modern kitchen, Tons of storage...   \n",
       "\n",
       "                                                 Url  Bedroom    sqft  \n",
       "0  https://seattle.craigslist.org/see/apa/d/seatt...      NaN   320.0  \n",
       "1  https://seattle.craigslist.org/see/apa/d/belle...      2.0  1057.0  "
      ]
     },
     "execution_count": 11,
     "metadata": {},
     "output_type": "execute_result"
    }
   ],
   "source": [
    "rent.head(2)"
   ]
  },
  {
   "cell_type": "code",
   "execution_count": 12,
   "metadata": {},
   "outputs": [
    {
     "name": "stdout",
     "output_type": "stream",
     "text": [
      "<class 'pandas.core.frame.DataFrame'>\n",
      "RangeIndex: 2986 entries, 0 to 2985\n",
      "Data columns (total 7 columns):\n",
      " #   Column        Non-Null Count  Dtype  \n",
      "---  ------        --------------  -----  \n",
      " 0   Post_Date     2986 non-null   object \n",
      " 1   Neighborhood  2986 non-null   object \n",
      " 2   Price         2986 non-null   float64\n",
      " 3   Title         2986 non-null   object \n",
      " 4   Url           2986 non-null   object \n",
      " 5   Bedroom       2336 non-null   float64\n",
      " 6   sqft          2776 non-null   float64\n",
      "dtypes: float64(3), object(4)\n",
      "memory usage: 163.4+ KB\n"
     ]
    }
   ],
   "source": [
    "rent.info()"
   ]
  },
  {
   "cell_type": "code",
   "execution_count": 13,
   "metadata": {},
   "outputs": [
    {
     "data": {
      "text/plain": [
       "0                              Seattle, Wa\n",
       "1           14700 Ne 35Th St, Bellevue, Wa\n",
       "2             2619 5Th Avenue, Seattle, Wa\n",
       "3                                  Seattle\n",
       "4                                  Seattle\n",
       "                       ...                \n",
       "2981    5240 University Way Ne Seattle, Wa\n",
       "2982    5240 University Way Ne Seattle, Wa\n",
       "2983           604 E Union St, Seattle, Wa\n",
       "2984                Seattle/Queen Ann Hill\n",
       "2985                          Capitol Hill\n",
       "Name: Neighborhood, Length: 2986, dtype: object"
      ]
     },
     "execution_count": 13,
     "metadata": {},
     "output_type": "execute_result"
    }
   ],
   "source": [
    "rent['Neighborhood']"
   ]
  },
  {
   "cell_type": "code",
   "execution_count": 15,
   "metadata": {},
   "outputs": [],
   "source": [
    "rent['Neighborhood'] = rent['Neighborhood'].apply(lambda x: 'Bellevue' if 'Bellevue' in x else x)"
   ]
  },
  {
   "cell_type": "code",
   "execution_count": 16,
   "metadata": {},
   "outputs": [
    {
     "data": {
      "text/plain": [
       "0                              Seattle, Wa\n",
       "1                                 Bellevue\n",
       "2             2619 5Th Avenue, Seattle, Wa\n",
       "3                                  Seattle\n",
       "4                                  Seattle\n",
       "                       ...                \n",
       "2981    5240 University Way Ne Seattle, Wa\n",
       "2982    5240 University Way Ne Seattle, Wa\n",
       "2983           604 E Union St, Seattle, Wa\n",
       "2984                Seattle/Queen Ann Hill\n",
       "2985                          Capitol Hill\n",
       "Name: Neighborhood, Length: 2986, dtype: object"
      ]
     },
     "execution_count": 16,
     "metadata": {},
     "output_type": "execute_result"
    }
   ],
   "source": [
    "rent['Neighborhood']"
   ]
  },
  {
   "cell_type": "code",
   "execution_count": 55,
   "metadata": {},
   "outputs": [],
   "source": [
    "rent['Neighborhood'] = rent['Neighborhood'].apply(lambda x: 'Seattle' if 'Seattle' in x else x)"
   ]
  },
  {
   "cell_type": "code",
   "execution_count": 56,
   "metadata": {},
   "outputs": [],
   "source": [
    "rent['Neighborhood'] = rent['Neighborhood'].apply(lambda x: 'Seattle' if 'seattle' in x else x)"
   ]
  },
  {
   "cell_type": "code",
   "execution_count": 19,
   "metadata": {},
   "outputs": [],
   "source": [
    "rent['Neighborhood'] = rent['Neighborhood'].apply(lambda x: 'Renton' if 'Renton' in x else x)"
   ]
  },
  {
   "cell_type": "code",
   "execution_count": 20,
   "metadata": {},
   "outputs": [],
   "source": [
    "rent['Neighborhood'] = rent['Neighborhood'].apply(lambda x: 'Kent' if 'Kent' in x else x)"
   ]
  },
  {
   "cell_type": "code",
   "execution_count": 21,
   "metadata": {},
   "outputs": [],
   "source": [
    "rent['Neighborhood'] = rent['Neighborhood'].apply(lambda x: 'Shoreline' if 'Shoreline' in x else x)"
   ]
  },
  {
   "cell_type": "code",
   "execution_count": 23,
   "metadata": {},
   "outputs": [],
   "source": [
    "rent['Neighborhood'] = rent['Neighborhood'].apply(lambda x: 'Bainbridge' if 'Bainbridge' in x else x)"
   ]
  },
  {
   "cell_type": "code",
   "execution_count": 25,
   "metadata": {},
   "outputs": [],
   "source": [
    "rent['Neighborhood'] = rent['Neighborhood'].apply(lambda x: 'Ballard' if 'Ballard' in x else x)"
   ]
  },
  {
   "cell_type": "code",
   "execution_count": 31,
   "metadata": {},
   "outputs": [],
   "source": [
    "rent['Neighborhood'] = rent['Neighborhood'].apply(lambda x: 'Bothell' if 'Bothell' in x else x)"
   ]
  },
  {
   "cell_type": "code",
   "execution_count": 27,
   "metadata": {},
   "outputs": [],
   "source": [
    "rent['Neighborhood'] = rent['Neighborhood'].apply(lambda x: 'Beacon Hill' if 'Beacon Hill' in x else x)"
   ]
  },
  {
   "cell_type": "code",
   "execution_count": 33,
   "metadata": {},
   "outputs": [],
   "source": [
    "rent['Neighborhood'] = rent['Neighborhood'].apply(lambda x: 'Belltown' if 'Belltown' in x else x)"
   ]
  },
  {
   "cell_type": "code",
   "execution_count": 63,
   "metadata": {},
   "outputs": [],
   "source": [
    "rent['Neighborhood'] = rent['Neighborhood'].apply(lambda x: 'Capitol Hill' if 'Capitol Hill' in x else x)"
   ]
  },
  {
   "cell_type": "code",
   "execution_count": 66,
   "metadata": {},
   "outputs": [],
   "source": [
    "rent['Neighborhood'] = rent['Neighborhood'].apply(lambda x: 'Capitol Hill' if 'Cap Hill' in x else x)"
   ]
  },
  {
   "cell_type": "code",
   "execution_count": 108,
   "metadata": {},
   "outputs": [],
   "source": [
    "rent['Neighborhood'] = rent['Neighborhood'].apply(lambda x: 'Capitol Hill' if 'Captiol' in x else x)"
   ]
  },
  {
   "cell_type": "code",
   "execution_count": 87,
   "metadata": {},
   "outputs": [],
   "source": [
    "rent['Neighborhood'] = rent['Neighborhood'].apply(lambda x: 'Capitol Hill' if 'Capital' in x else x)"
   ]
  },
  {
   "cell_type": "code",
   "execution_count": 112,
   "metadata": {},
   "outputs": [],
   "source": [
    "rent['Neighborhood'] = rent['Neighborhood'].apply(lambda x: 'Eastlake' if 'East Lk' in x else x)"
   ]
  },
  {
   "cell_type": "code",
   "execution_count": 39,
   "metadata": {},
   "outputs": [],
   "source": [
    "rent['Neighborhood'] = rent['Neighborhood'].apply(lambda x: 'First Hill' if 'First Hill' in x else x)"
   ]
  },
  {
   "cell_type": "code",
   "execution_count": 42,
   "metadata": {},
   "outputs": [],
   "source": [
    "rent['Neighborhood'] = rent['Neighborhood'].apply(lambda x: 'Greenwood' if 'Greenwood' in x else x)"
   ]
  },
  {
   "cell_type": "code",
   "execution_count": 51,
   "metadata": {},
   "outputs": [],
   "source": [
    "rent['Neighborhood'] = rent['Neighborhood'].apply(lambda x: 'Gig Harbor' if 'Gig Harbor' in x else x)"
   ]
  },
  {
   "cell_type": "code",
   "execution_count": 52,
   "metadata": {},
   "outputs": [],
   "source": [
    "rent['Neighborhood'] = rent['Neighborhood'].apply(lambda x: 'Mercer Island' if 'Mercer Island' in x else x)"
   ]
  },
  {
   "cell_type": "code",
   "execution_count": 54,
   "metadata": {},
   "outputs": [],
   "source": [
    "rent['Neighborhood'] = rent['Neighborhood'].apply(lambda x: 'Everett' if 'Everett' in x else x)"
   ]
  },
  {
   "cell_type": "code",
   "execution_count": 168,
   "metadata": {},
   "outputs": [],
   "source": [
    "rent['Neighborhood'] = rent['Neighborhood'].apply(lambda x: 'Tacoma' if 'Sea Tac' in x else x)"
   ]
  },
  {
   "cell_type": "code",
   "execution_count": 61,
   "metadata": {},
   "outputs": [],
   "source": [
    "rent['Neighborhood'] = rent['Neighborhood'].apply(lambda x: 'Snoqualmie' if 'Snoqualmie' in x else x)"
   ]
  },
  {
   "cell_type": "code",
   "execution_count": 71,
   "metadata": {},
   "outputs": [],
   "source": [
    "rent['Neighborhood'] = rent['Neighborhood'].apply(lambda x: 'Central District' if 'Central District' in x else x)"
   ]
  },
  {
   "cell_type": "code",
   "execution_count": 80,
   "metadata": {},
   "outputs": [],
   "source": [
    "rent['Neighborhood'] = rent['Neighborhood'].apply(lambda x: 'Green Lake' if 'Greenlake' in x else x)"
   ]
  },
  {
   "cell_type": "code",
   "execution_count": 89,
   "metadata": {},
   "outputs": [],
   "source": [
    "rent['Neighborhood'] = rent['Neighborhood'].apply(lambda x: 'Queen Anne' if 'Queen Anne' in x else x)"
   ]
  },
  {
   "cell_type": "code",
   "execution_count": 93,
   "metadata": {},
   "outputs": [],
   "source": [
    "rent['Neighborhood'] = rent['Neighborhood'].apply(lambda x: 'Fremont' if 'Fremont' in x else x)"
   ]
  },
  {
   "cell_type": "code",
   "execution_count": 94,
   "metadata": {},
   "outputs": [],
   "source": [
    "rent['Neighborhood'] = rent['Neighborhood'].apply(lambda x: 'International District' if 'International' in x else x)"
   ]
  },
  {
   "cell_type": "code",
   "execution_count": 202,
   "metadata": {},
   "outputs": [],
   "source": [
    "rent['Neighborhood'] = rent['Neighborhood'].apply(lambda x: 'Mill Creek' if 'Mill Creek' in x else x)"
   ]
  },
  {
   "cell_type": "code",
   "execution_count": 104,
   "metadata": {},
   "outputs": [],
   "source": [
    "rent['Neighborhood'] = rent['Neighborhood'].apply(lambda x: 'Madison Park' if 'Madison Park' in x else x)"
   ]
  },
  {
   "cell_type": "code",
   "execution_count": 208,
   "metadata": {},
   "outputs": [],
   "source": [
    "rent['Neighborhood'] = rent['Neighborhood'].apply(lambda x: 'Seattle' if 'Latitude' in x else x)"
   ]
  },
  {
   "cell_type": "code",
   "execution_count": 166,
   "metadata": {},
   "outputs": [],
   "source": [
    "rent['Neighborhood'] = rent['Neighborhood'].apply(lambda x: 'International District' if 'Federal' in x else x)"
   ]
  },
  {
   "cell_type": "code",
   "execution_count": 181,
   "metadata": {},
   "outputs": [],
   "source": [
    "rent['Neighborhood'] = rent['Neighborhood'].apply(lambda x: 'Other' if 'Spacious' in x else x)"
   ]
  },
  {
   "cell_type": "code",
   "execution_count": 209,
   "metadata": {},
   "outputs": [
    {
     "data": {
      "text/plain": [
       "89"
      ]
     },
     "execution_count": 209,
     "metadata": {},
     "output_type": "execute_result"
    }
   ],
   "source": [
    "rent['Neighborhood'].nunique()"
   ]
  },
  {
   "cell_type": "code",
   "execution_count": 210,
   "metadata": {},
   "outputs": [],
   "source": [
    "rent.to_csv('CleanedRent.csv',index=False)"
   ]
  },
  {
   "cell_type": "code",
   "execution_count": 83,
   "metadata": {},
   "outputs": [],
   "source": [
    "rent_clean = pd.read_csv('CleanedRent.csv')"
   ]
  }
 ],
 "metadata": {
  "kernelspec": {
   "display_name": "Python 3",
   "language": "python",
   "name": "python3"
  },
  "language_info": {
   "codemirror_mode": {
    "name": "ipython",
    "version": 3
   },
   "file_extension": ".py",
   "mimetype": "text/x-python",
   "name": "python",
   "nbconvert_exporter": "python",
   "pygments_lexer": "ipython3",
   "version": "3.8.5"
  }
 },
 "nbformat": 4,
 "nbformat_minor": 4
}
